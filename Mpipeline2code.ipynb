{
  "nbformat": 4,
  "nbformat_minor": 0,
  "metadata": {
    "colab": {
      "provenance": [],
      "authorship_tag": "ABX9TyNBfYJbci0zL93Y9If1wgl8",
      "include_colab_link": true
    },
    "kernelspec": {
      "name": "python3",
      "display_name": "Python 3"
    },
    "language_info": {
      "name": "python"
    }
  },
  "cells": [
    {
      "cell_type": "markdown",
      "metadata": {
        "id": "view-in-github",
        "colab_type": "text"
      },
      "source": [
        "<a href=\"https://colab.research.google.com/github/kganeshv12/NEXGEN_REPO/blob/main/Mpipeline2code.ipynb\" target=\"_parent\"><img src=\"https://colab.research.google.com/assets/colab-badge.svg\" alt=\"Open In Colab\"/></a>"
      ]
    },
    {
      "cell_type": "code",
      "source": [
        "!pip install --upgrade fireworks-ai -q\n",
        "from fireworks.client import Fireworks"
      ],
      "metadata": {
        "id": "eNwWgUC79zr_",
        "colab": {
          "base_uri": "https://localhost:8080/"
        },
        "outputId": "196df1e8-2e1f-4583-f059-e61d2f20ed2a"
      },
      "execution_count": null,
      "outputs": [
        {
          "output_type": "stream",
          "name": "stdout",
          "text": [
            "\u001b[2K     \u001b[90m━━━━━━━━━━━━━━━━━━━━━━━━━━━━━━━━━━━━━━━━\u001b[0m \u001b[32m80.5/80.5 kB\u001b[0m \u001b[31m1.5 MB/s\u001b[0m eta \u001b[36m0:00:00\u001b[0m\n",
            "\u001b[2K     \u001b[90m━━━━━━━━━━━━━━━━━━━━━━━━━━━━━━━━━━━━━━━━\u001b[0m \u001b[32m75.6/75.6 kB\u001b[0m \u001b[31m3.1 MB/s\u001b[0m eta \u001b[36m0:00:00\u001b[0m\n",
            "\u001b[2K     \u001b[90m━━━━━━━━━━━━━━━━━━━━━━━━━━━━━━━━━━━━━━━━\u001b[0m \u001b[32m77.9/77.9 kB\u001b[0m \u001b[31m6.2 MB/s\u001b[0m eta \u001b[36m0:00:00\u001b[0m\n",
            "\u001b[2K     \u001b[90m━━━━━━━━━━━━━━━━━━━━━━━━━━━━━━━━━━━━━━━━\u001b[0m \u001b[32m58.3/58.3 kB\u001b[0m \u001b[31m5.6 MB/s\u001b[0m eta \u001b[36m0:00:00\u001b[0m\n",
            "\u001b[?25h"
          ]
        }
      ]
    },
    {
      "cell_type": "code",
      "source": [
        "xray = \"No fracture detected\"\n",
        "report = \"\"\"\n",
        "In the above document, the C-Reactive Protein (CRP) value is 39 mg/L, which is higher than the ideal range of 60 mg/L. Please consult clinically and discuss the possibility of a repeat test if necessary.\n",
        "\"\"\"\n",
        "presc = \"\"\"Date: Not explicitly mentioned, but the prescription is likely created on the day of the consultation, which is not specified in the provided text.\n",
        "\n",
        "Medical Condition:\n",
        "- Complaints: Cough with fever x 5 days\n",
        "\n",
        "Medications Prescribed:\n",
        "1. Augmentin 625 Duo Tablet\n",
        "- Amoxicillin (500mg) + Clavulanic Acid (125mg)\n",
        "- 1 tablet - 0 - 1 tablet for 5 Days\n",
        "- Instructions: Take on empty stomach\n",
        "\n",
        "2. Crocin Advance Tablet\n",
        "- Paracetamol (600mg)\n",
        "- 1 tablet when required for 5 Days\n",
        "- Instructions: After food\n",
        "\n",
        "3. Zivinix-C Chewable Tablet\n",
        "- Vitamin C (400mg) + Zinc Sulfate (75mg)\"\"\""
      ],
      "metadata": {
        "id": "3X_YXpGht4Hv"
      },
      "execution_count": null,
      "outputs": []
    },
    {
      "cell_type": "code",
      "source": [
        "history = []\n",
        "def user_message(xray, report, presc):\n",
        "    user_message = (\n",
        "        f\"\"\"\n",
        "        You are a Medical Appointment Analysing and Summarization Bot.Your task is to assess and summarize the following three inputs given:\n",
        "        1. customer's Xray Output.\n",
        "        2. Medical test Reports such as (Blood tests, covide test reports, etc).\n",
        "        3. Prescription.\n",
        "\n",
        "        Using the above, summarie the meet with the doctor and highlight main points.\n",
        "\n",
        "        As the response, You need to return a comprehensive summary of the of the above three inputs as a single paragraph. Given the date of every input, you need to return the respective chronological order\n",
        "\n",
        "        If one or more of the inputs are not provided, then omit it from the summary and summarize only what is given.Provide minimalist explanations or notes.\n",
        "\n",
        "        Make sure to Answer in 2nd person tone.\n",
        "\n",
        "        ####\n",
        "        Here are some examples:\n",
        "\n",
        "        ###\n",
        "\n",
        "        <<<\n",
        "        Input XRAY Result: {xray}\n",
        "\n",
        "        Input Medical Test Report Summary : {report}\n",
        "\n",
        "        Input Medical Prescription Summary : {presc}\n",
        "        >>>\n",
        "        \"\"\"\n",
        "    )\n",
        "    return user_message\n"
      ],
      "metadata": {
        "id": "ESrsaeInsP4y"
      },
      "execution_count": null,
      "outputs": []
    },
    {
      "cell_type": "code",
      "source": [
        "client = Fireworks(api_key=\"\")\n",
        "message_modified = user_message(xray,report,presc)\n",
        "\n",
        "response = client.chat.completions.create(\n",
        "  model=\"accounts/fireworks/models/mixtral-8x7b-instruct\",\n",
        "  messages=[{\"role\": \"user\", \"content\": message_modified}],)\n",
        "\n",
        "bot_response = response.choices[0].message.content\n",
        "\n",
        "bot_response"
      ],
      "metadata": {
        "colab": {
          "base_uri": "https://localhost:8080/",
          "height": 104
        },
        "id": "5yvkLntH90sW",
        "outputId": "b8ca216a-9016-4b6e-9ae5-1af22f68d05b"
      },
      "execution_count": null,
      "outputs": [
        {
          "output_type": "execute_result",
          "data": {
            "text/plain": [
              "'Based on your appointment, the following summarizes the findings from the various medical assessments:\\n\\n- X-ray: No fractures were detected.\\n\\nRegarding the medical test reports:\\n\\n- The C-Reactive Protein (CRP) value was measured at 39 mg/L, which is higher than the typical range of 60 mg/L. Your healthcare provider has suggested discussing the possibility of a repeat test to further evaluate the situation.\\n\\nThe prescription, likely created on the day of the consultation, includes the following medications:\\n\\n1. Augmentin 625 Duo Tablet:\\n\\t- Amoxicillin (500mg) + Clavulanic Acid (125mg)\\n\\t- Dosage: 1 tablet two times a day for 5 days\\n\\t- Instructions: Take on an empty stomach\\n2. Crocin Advance Tablet:'"
            ],
            "application/vnd.google.colaboratory.intrinsic+json": {
              "type": "string"
            }
          },
          "metadata": {},
          "execution_count": 4
        }
      ]
    }
  ]
}