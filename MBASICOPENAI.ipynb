{
  "cells": [
    {
      "cell_type": "markdown",
      "metadata": {
        "id": "view-in-github",
        "colab_type": "text"
      },
      "source": [
        "<a href=\"https://colab.research.google.com/github/kganeshv12/NEXGEN_REPO/blob/main/MBASICOPENAI.ipynb\" target=\"_parent\"><img src=\"https://colab.research.google.com/assets/colab-badge.svg\" alt=\"Open In Colab\"/></a>"
      ]
    },
    {
      "cell_type": "code",
      "execution_count": 2,
      "metadata": {
        "id": "cHJfP2LM9Yhc"
      },
      "outputs": [],
      "source": [
        "!pip install python-dotenv -q\n",
        "!pip install openai -q"
      ]
    },
    {
      "cell_type": "code",
      "execution_count": null,
      "metadata": {
        "id": "eNwWgUC79zr_"
      },
      "outputs": [],
      "source": [
        "import openai\n",
        "openai.api_key = ''"
      ]
    },
    {
      "cell_type": "code",
      "execution_count": 1,
      "metadata": {
        "id": "k4nxBa4rtwHg"
      },
      "outputs": [],
      "source": [
        "def question(prompt):\n",
        "  messages = [{\"role\": \"user\", \"content\": prompt}]\n",
        "  response = openai.chat.completions.create(\n",
        "      model=\"gpt-3.5-turbo-0125\",\n",
        "      messages=messages,\n",
        "      temperature=0.0\n",
        "  )\n",
        "  bot_response = response.choices[0].message.content\n",
        "  return bot_response\n",
        "q = 'who is the prime minister of india?'\n",
        "print(question(q))"
      ]
    },
    {
      "cell_type": "code",
      "source": [],
      "metadata": {
        "id": "ppfwQoV16KK9"
      },
      "execution_count": null,
      "outputs": []
    }
  ],
  "metadata": {
    "colab": {
      "provenance": [],
      "include_colab_link": true
    },
    "kernelspec": {
      "display_name": "Python 3",
      "name": "python3"
    },
    "language_info": {
      "name": "python"
    }
  },
  "nbformat": 4,
  "nbformat_minor": 0
}