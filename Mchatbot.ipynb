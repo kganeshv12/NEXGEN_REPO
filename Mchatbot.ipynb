{
  "cells": [
    {
      "cell_type": "markdown",
      "metadata": {
        "id": "view-in-github",
        "colab_type": "text"
      },
      "source": [
        "<a href=\"https://colab.research.google.com/github/kganeshv12/NEXGEN_REPO/blob/main/Mchatbot.ipynb\" target=\"_parent\"><img src=\"https://colab.research.google.com/assets/colab-badge.svg\" alt=\"Open In Colab\"/></a>"
      ]
    },
    {
      "cell_type": "code",
      "execution_count": null,
      "metadata": {
        "colab": {
          "base_uri": "https://localhost:8080/"
        },
        "id": "cHJfP2LM9Yhc",
        "outputId": "8a00088f-6e91-4cdc-cecc-e1e3727589b5"
      },
      "outputs": [
        {
          "output_type": "stream",
          "name": "stdout",
          "text": [
            "\u001b[2K     \u001b[90m━━━━━━━━━━━━━━━━━━━━━━━━━━━━━━━━━━━━━━━━\u001b[0m \u001b[32m267.1/267.1 kB\u001b[0m \u001b[31m1.3 MB/s\u001b[0m eta \u001b[36m0:00:00\u001b[0m\n",
            "\u001b[2K     \u001b[90m━━━━━━━━━━━━━━━━━━━━━━━━━━━━━━━━━━━━━━━━\u001b[0m \u001b[32m75.6/75.6 kB\u001b[0m \u001b[31m3.5 MB/s\u001b[0m eta \u001b[36m0:00:00\u001b[0m\n",
            "\u001b[2K     \u001b[90m━━━━━━━━━━━━━━━━━━━━━━━━━━━━━━━━━━━━━━━━\u001b[0m \u001b[32m77.9/77.9 kB\u001b[0m \u001b[31m4.5 MB/s\u001b[0m eta \u001b[36m0:00:00\u001b[0m\n",
            "\u001b[2K     \u001b[90m━━━━━━━━━━━━━━━━━━━━━━━━━━━━━━━━━━━━━━━━\u001b[0m \u001b[32m58.3/58.3 kB\u001b[0m \u001b[31m3.2 MB/s\u001b[0m eta \u001b[36m0:00:00\u001b[0m\n",
            "\u001b[?25h"
          ]
        }
      ],
      "source": [
        "!pip install python-dotenv -q\n",
        "!pip install openai -q"
      ]
    },
    {
      "cell_type": "code",
      "execution_count": null,
      "metadata": {
        "id": "eNwWgUC79zr_"
      },
      "outputs": [],
      "source": [
        "import openai\n",
        "openai.api_key = ''"
      ]
    },
    {
      "cell_type": "code",
      "execution_count": null,
      "metadata": {
        "id": "RA_GEop2i4J_"
      },
      "outputs": [],
      "source": [
        "import requests\n",
        "import json\n",
        "response = requests.get(url=\"https://763f-1-6-74-117.ngrok-free.app/api/sendUserJson/1\")"
      ]
    },
    {
      "cell_type": "code",
      "execution_count": null,
      "metadata": {
        "id": "pB3pe5W_sErz"
      },
      "outputs": [],
      "source": [
        "!pip install gradio -q"
      ]
    },
    {
      "cell_type": "code",
      "execution_count": null,
      "metadata": {
        "id": "U8LepV2ni5dQ"
      },
      "outputs": [],
      "source": [
        "ans = (response.text)\n",
        "\n",
        "json_obj = json.loads(ans)\n",
        "\n",
        "# Print the JSON object\n",
        "print(json_obj)\n"
      ]
    },
    {
      "cell_type": "code",
      "execution_count": null,
      "metadata": {
        "colab": {
          "base_uri": "https://localhost:8080/"
        },
        "id": "tkgrOSA-nYte",
        "outputId": "4bfd222a-b12a-4dfe-8cc2-f63a60656e75"
      },
      "outputs": [
        {
          "name": "stdout",
          "output_type": "stream",
          "text": [
            "['Based on the provided inputs\\n\\n1 The Xray output indicates the detection of a fracture\\n2 Medical test reports suggest that the Creactive protein CRP level is elevated measuring at 39 mgL which may indicate the presence of an inflammatory condition Its recommended to consult the doctor for clinical correlation and further evaluation\\n3 There is no prescription information provided in the input\\n\\nIn summary the patients Xray reveals a fracture and medical tests indicate elevated CRP levels suggesting possible inflammation Please consult with the doctor for further evaluation and prescription information', 'Based on the provided inputs\\n\\n1 The Xray output indicates the detection of a fracture\\n\\n2 Medical test reports suggest that the Creactive protein CRP level is elevated measuring at 39 mgL which may indicate the presence of an inflammatory condition Its recommended to consult the doctor for clinical correlation and further evaluation\\n\\n3 There is no prescription information provided in the input\\n\\nIn summary the patients Xray reveals a fracture and medical tests indicate elevated CRP levels suggesting possible inflammation Please consult with the doctor for further evaluation and prescription information', 'Based on the provided inputs\\n\\n1 The Xray output indicates the detection of a fracture\\n\\n2 Medical test reports suggest that the Creactive protein CRP level is elevated measuring at 39 mgL which may indicate the presence of an inflammatory condition Its recommended to consult the doctor for clinical correlation and further evaluation\\n\\n3 There is no prescription information provided in the input\\n\\nIn summary the patients Xray reveals a fracture and medical tests indicate elevated CRP levels suggesting possible inflammation Please consult with the doctor for further evaluation and prescription information', 'Based on the provided inputs\\n\\n1 The Xray output indicates the detection of a fracture\\n2 Medical test reports suggest that the Creactive protein CRP level is elevated measuring at 39 mgL which may indicate the presence of an inflammatory condition Its recommended to consult the doctor for clinical correlation and further evaluation\\n3 There is no prescription information provided in the input\\n\\nIn summary the patients Xray reveals a fracture and medical tests indicate elevated CRP levels suggesting possible inflammation Please consult with the doctor for further evaluation and prescription information', 'Based on the provided inputs the prescription includes medications for the treatment of cough with fever Augmentin 625 Duo Tablet Crocin Advance Tablet and ZivinixC Chewable Tablet are prescribed with specific instructions and duration A review with reports is also advised\\n\\nIn summary the patients prescription consists of medications for cough with fever to be taken with specific instructions and for a certain duration A followup review with reports is recommended', 'Based on the provided inputs the prescription includes medications for the treatment of cough with fever Augmentin 625 Duo Tablet Crocin Advance Tablet and ZivinixC Chewable Tablet are prescribed with specific instructions and duration A review with reports is also advised\\n\\nIn summary the patients prescription consists of medications for cough with fever to be taken with specific instructions and for a certain duration A followup review with reports is recommended']\n"
          ]
        }
      ],
      "source": [
        "summary_list = []\n",
        "for appointment in json_obj.values():\n",
        "    for item in appointment:\n",
        "        for key, value in item.items():\n",
        "            if key == \"summary\":\n",
        "                summary_list.append(value)\n",
        "\n",
        "# Print the summary list\n",
        "print(summary_list)"
      ]
    },
    {
      "cell_type": "code",
      "execution_count": null,
      "metadata": {
        "id": "6xp6g7-OHIDy"
      },
      "outputs": [],
      "source": [
        "def user_message(message):\n",
        "    user_message = (\n",
        "        f\"\"\"\n",
        "        You are a Kind Chatbot which answers questions based on a particular patient's data.\n",
        "        You need to understand the patient data provided in the JSON format.\n",
        "\n",
        "        The data which you need to refer:\n",
        "\n",
        "        {summary_list}\n",
        "        <<<\n",
        "        IQuery : {message}\n",
        "        >>>\n",
        "        \"\"\"\n",
        "    )\n",
        "    return user_message"
      ]
    },
    {
      "cell_type": "code",
      "execution_count": null,
      "metadata": {
        "id": "qaP9ofERoJMG"
      },
      "outputs": [],
      "source": [
        "def get_completion(prompt, history):\n",
        "    messages = [{\"role\": \"user\", \"content\": user_message(prompt)}]\n",
        "    response = openai.chat.completions.create(\n",
        "        model=\"gpt-3.5-turbo\",\n",
        "        messages=messages,\n",
        "        temperature=0.0,\n",
        "    )\n",
        "    bot_response = response.choices[0].message.content\n",
        "    # return response.choices[0].message[\"content\"]\n",
        "    # return response\n",
        "    history.append([prompt, bot_response])\n",
        "    return response.choices[0].message.content\n"
      ]
    },
    {
      "cell_type": "code",
      "execution_count": null,
      "metadata": {
        "id": "sk9uqHZ9FlV3"
      },
      "outputs": [],
      "source": [
        "history = []"
      ]
    },
    {
      "cell_type": "code",
      "execution_count": null,
      "metadata": {
        "colab": {
          "base_uri": "https://localhost:8080/",
          "height": 53
        },
        "id": "ZXpq1Tz8orlD",
        "outputId": "c9aff985-a387-49b7-ba3b-5c03feeaab9a"
      },
      "outputs": [
        {
          "data": {
            "application/vnd.google.colaboratory.intrinsic+json": {
              "type": "string"
            },
            "text/plain": [
              "'Based on the provided data, the patient is facing a fracture as indicated by the Xray output. Additionally, the elevated Creactive protein (CRP) levels suggest the presence of an inflammatory condition. It is recommended to consult with a doctor for further evaluation and clinical correlation.'"
            ]
          },
          "execution_count": 11,
          "metadata": {},
          "output_type": "execute_result"
        }
      ],
      "source": [
        "get_completion(\"What is the medical problem the patient facing?\", history)"
      ]
    },
    {
      "cell_type": "code",
      "execution_count": null,
      "metadata": {
        "colab": {
          "background_save": true,
          "base_uri": "https://localhost:8080/",
          "height": 645
        },
        "id": "LrPwbBkKqBbH",
        "outputId": "595922bf-8698-40c1-b528-265a9039a8e7"
      },
      "outputs": [
        {
          "name": "stdout",
          "output_type": "stream",
          "text": [
            "Setting queue=True in a Colab notebook requires sharing enabled. Setting `share=True` (you can turn this off by setting `share=False` in `launch()` explicitly).\n",
            "\n",
            "Colab notebook detected. This cell will run indefinitely so that you can see errors and logs. To turn off, set debug=False in launch().\n",
            "Running on public URL: https://52f07577b9930367fa.gradio.live\n",
            "\n",
            "This share link expires in 72 hours. For free permanent hosting and GPU upgrades, run `gradio deploy` from Terminal to deploy to Spaces (https://huggingface.co/spaces)\n"
          ]
        },
        {
          "data": {
            "text/html": [
              "<div><iframe src=\"https://52f07577b9930367fa.gradio.live\" width=\"100%\" height=\"500\" allow=\"autoplay; camera; microphone; clipboard-read; clipboard-write;\" frameborder=\"0\" allowfullscreen></iframe></div>"
            ],
            "text/plain": [
              "<IPython.core.display.HTML object>"
            ]
          },
          "metadata": {},
          "output_type": "display_data"
        }
      ],
      "source": [
        "import gradio as gr\n",
        "\n",
        "demo = gr.ChatInterface(fn=get_completion, examples=[\"What is the patient suffering from? \", \"What are the prescribed medicines?\"], title=\"Echo Bot\")\n",
        "demo.launch(debug = True)"
      ]
    },
    {
      "cell_type": "code",
      "execution_count": null,
      "metadata": {
        "id": "k4nxBa4rtwHg"
      },
      "outputs": [],
      "source": []
    }
  ],
  "metadata": {
    "colab": {
      "provenance": [],
      "include_colab_link": true
    },
    "kernelspec": {
      "display_name": "Python 3",
      "name": "python3"
    },
    "language_info": {
      "name": "python"
    }
  },
  "nbformat": 4,
  "nbformat_minor": 0
}