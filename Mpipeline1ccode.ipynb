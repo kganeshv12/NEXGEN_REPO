{
  "nbformat": 4,
  "nbformat_minor": 0,
  "metadata": {
    "colab": {
      "provenance": [],
      "authorship_tag": "ABX9TyOpZghZQjXXmgfBjMU3EW9K",
      "include_colab_link": true
    },
    "kernelspec": {
      "name": "python3",
      "display_name": "Python 3"
    },
    "language_info": {
      "name": "python"
    }
  },
  "cells": [
    {
      "cell_type": "markdown",
      "metadata": {
        "id": "view-in-github",
        "colab_type": "text"
      },
      "source": [
        "<a href=\"https://colab.research.google.com/github/kganeshv12/NEXGEN_REPO/blob/main/Mpipeline1ccode.ipynb\" target=\"_parent\"><img src=\"https://colab.research.google.com/assets/colab-badge.svg\" alt=\"Open In Colab\"/></a>"
      ]
    },
    {
      "cell_type": "code",
      "source": [
        "!pip install --upgrade fireworks-ai -q\n",
        "from fireworks.client import Fireworks\n",
        "!pip install pytesseract -q\n",
        "import pytesseract\n",
        "from PIL import Image"
      ],
      "metadata": {
        "id": "eNwWgUC79zr_"
      },
      "execution_count": 1,
      "outputs": []
    },
    {
      "cell_type": "code",
      "source": [
        "!export PATH=/usr/local/bin:$PATH\n",
        "!sudo apt install tesseract-ocr -q\n",
        "!pip install pytesseract -q"
      ],
      "metadata": {
        "id": "VTHWK372Gryp"
      },
      "execution_count": 2,
      "outputs": []
    },
    {
      "cell_type": "code",
      "source": [
        "# Open the image file\n",
        "image_path = \"img.jpg\"\n",
        "\n",
        "img = Image.open(image_path)\n",
        "\n",
        "# Use Tesseract OCR to extract text\n",
        "extracted_text = pytesseract.image_to_string(img)\n",
        "\n",
        "# Print the extracted text\n",
        "print(extracted_text)\n"
      ],
      "metadata": {
        "id": "10Zexm4oGIbY"
      },
      "execution_count": 3,
      "outputs": []
    },
    {
      "cell_type": "code",
      "source": [
        "history = []\n",
        "def user_message(inquiry):\n",
        "    user_message = (\n",
        "        f\"\"\"\n",
        "        If the input text is Blank, return \"NULL\"\n",
        "\n",
        "        if you dont understand the prescription Dont\n",
        "\n",
        "        You are a Medical Prescription Analysing and Summarization Bot.Your task is to assess the customer's Prescription.\n",
        "        In the medical Prescription, You need to return a comprehensive summary of the prescriptions\n",
        "\n",
        "        If possible, categorize the entire text into the following sub-categories\n",
        "\n",
        "        Your response must be like this: <<<>>> into one of the following predefined categories:\n",
        "\n",
        "        Date:\n",
        "        Medical Condition:\n",
        "        Diagnosis:\n",
        "        Medications Prescribed\n",
        "        Optional Advice\n",
        "\n",
        "        You will only respond with the Categories which Clearly distinguishable in the Provided Prescription. Do not include categories if it is not directly categorizable into any of the above provided categories.Provide minimalist explanations or notes.\n",
        "\n",
        "\n",
        "\n",
        "        ####\n",
        "        Here are some examples:\n",
        "\n",
        "        Input Prescription Text:\n",
        "              Dr. Anandibai G Joshi\n",
        "              MBBS, M.D Medicine\n",
        "\n",
        "              Consultant Surgeon\n",
        "              Sagar Hospital, Jayanagar 4th block, Bangalore - Swagath Road, SR Krishnappa Garden,\n",
        "              Hombegowda Nagar Get Directions ©\n",
        "\n",
        "              & 98042888868 © Next: Mon 6:9 AM ~\n",
        "\n",
        "\n",
        "\n",
        "              K L Ravi Kumar - 60 Years - Male\n",
        "\n",
        "              ‘Complaints Cough with fever x 5 days\n",
        "\n",
        "              Vitals\n",
        "\n",
        "              Pulse Rate: 9@ bpm Pulse Pattern: Regular\n",
        "              BP: 146/88 mmHg Resp Rate: 22 cycles/min\n",
        "              Resp Pattern: Regular Temp: 36 Celsius\n",
        "\n",
        "              Sp02: 98 % RBS: 110 %\n",
        "\n",
        "              Examination 8/L Ronchi +\n",
        "\n",
        "              [DiaQHOEIS| Fever for evaluation\n",
        "\n",
        "              &\n",
        "\n",
        "              1. Augmentin 625 Duo Tablet\n",
        "\n",
        "              Amoxyeillin (00mg) + Clavulanic Acid (25mg)\n",
        "              1 tablet - 0 - 1 tablet for 5 Days\n",
        "              Instructions: Take on empty stomach\n",
        "\n",
        "              2. Crocin Advance Tablet\n",
        "              Paracetamol (600mg)\n",
        "              1 tablet when required for 5 Days\n",
        "              Instructions: After food\n",
        "\n",
        "\n",
        "\n",
        "              Zivinix-C Chewable Tablet\n",
        "\n",
        "              Vitamin C 400mg) +Zine Sulfate (75mg)\n",
        "              I tablet - © - © for 14 Days\n",
        "\n",
        "              Investigations\n",
        "              1. CxR P/A View\n",
        "\n",
        "              2. CBC, LFT, RFT, Urine routine & microscopy\n",
        "              Components: Complete Blood Counts, Liver Funtion Tests, Renal Function Tests, Urine\n",
        "              routine & microscopy\n",
        "              Instructions: Empty stomach sample is not necessary.\n",
        "\n",
        "              3. COVID-19 RT PCR\n",
        "\n",
        "              Advice Review with reports\n",
        "\n",
        "              aw)\n",
        "              4 tba\n",
        "              Dr. Anandibai G Joshi\n",
        "\n",
        "              MBBS, MD Medicine\n",
        "              ‘MCT 110008\n",
        "\n",
        "\n",
        "\n",
        "              Prescription generate with STAT\n",
        "              ‘Terms & Conditions - Privacy Policy\n",
        "\n",
        "        Output:\n",
        "              Date -\n",
        "              Medical Condition:\n",
        "              - Complaints: Cough with fever x 5 days\n",
        "\n",
        "              Medications Prescribed:\n",
        "              1. Augmentin 625 Duo Tablet\n",
        "                - Amoxicillin (500mg) + Clavulanic Acid (125mg)\n",
        "                - 1 tablet - 0 - 1 tablet for 5 Days\n",
        "                - Instructions: Take on empty stomach\n",
        "\n",
        "              2. Crocin Advance Tablet\n",
        "                - Paracetamol (600mg)\n",
        "                - 1 tablet when required for 5 Days\n",
        "                - Instructions: After food\n",
        "\n",
        "              3. Zivinix-C Chewable Tablet\n",
        "                - Vitamin C (400mg) + Zinc Sulfate (75mg)\n",
        "                - 1 tablet - © - © for 14 Days\n",
        "\n",
        "              Optional Advice:\n",
        "              - Review with reports\n",
        "              - COVID-19 RT PCR test\n",
        "              - Investigations: CxR P/A View, CBC, LFT, RFT, Urine routine & microscopy\n",
        "                - Instructions: Empty stomach sample is not necessary.\n",
        "        ###\n",
        "\n",
        "\n",
        "        above was the example for you to understand, now please perform for this text:\n",
        "        <<<\n",
        "        Input Report text: {inquiry}\n",
        "        >>>\n",
        "        \"\"\"\n",
        "    )\n",
        "    return user_message\n"
      ],
      "metadata": {
        "id": "GT0nzTZGp_If"
      },
      "execution_count": null,
      "outputs": []
    },
    {
      "cell_type": "code",
      "source": [
        "client = Fireworks(api_key=\"\")\n",
        "message_modified = user_message(extracted_text)\n",
        "\n",
        "response = client.chat.completions.create(\n",
        "  model=\"accounts/fireworks/models/mixtral-8x7b-instruct\",\n",
        "  messages=[{\"role\": \"user\", \"content\": message_modified}],)\n",
        "\n",
        "bot_response = response.choices[0].message.content\n",
        "\n",
        "bot_response"
      ],
      "metadata": {
        "colab": {
          "base_uri": "https://localhost:8080/",
          "height": 122
        },
        "id": "5yvkLntH90sW",
        "outputId": "886cd524-a104-41bd-b670-4d26d4c6e1d5"
      },
      "execution_count": null,
      "outputs": [
        {
          "output_type": "execute_result",
          "data": {
            "text/plain": [
              "\"I'm sorry for the confusion, but I don't see any input prescription text in your latest message. Here is a summary of the example prescription you provided earlier:\\n\\n```bash\\nDate - Not specified in the text\\nMedical Condition:\\n- Complaints: Cough with fever x 5 days\\n\\nMedications Prescribed:\\n1. Augmentin 625 Duo Tablet\\n   - Amoxicillin (500mg) + Clavulanic Acid (125mg)\\n   - 1 tablet - 0 - 1 tablet for 5 Days\\n   - Instructions: Take on empty stomach\\n\\n2. Crocin Advance Tablet\\n   - Paracetamol (600mg)\\n   - 1 tablet when required for 5 Days\\n   - Instructions: After food\\n\\n3. Zivinix-C Che\""
            ],
            "application/vnd.google.colaboratory.intrinsic+json": {
              "type": "string"
            }
          },
          "metadata": {},
          "execution_count": 9
        }
      ]
    }
  ]
}