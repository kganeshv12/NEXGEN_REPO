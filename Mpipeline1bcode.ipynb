{
  "nbformat": 4,
  "nbformat_minor": 0,
  "metadata": {
    "colab": {
      "provenance": [],
      "authorship_tag": "ABX9TyNKgA3wuD91Jr86guzdX6//",
      "include_colab_link": true
    },
    "kernelspec": {
      "name": "python3",
      "display_name": "Python 3"
    },
    "language_info": {
      "name": "python"
    }
  },
  "cells": [
    {
      "cell_type": "markdown",
      "metadata": {
        "id": "view-in-github",
        "colab_type": "text"
      },
      "source": [
        "<a href=\"https://colab.research.google.com/github/kganeshv12/NEXGEN_REPO/blob/main/Mpipeline1bcode.ipynb\" target=\"_parent\"><img src=\"https://colab.research.google.com/assets/colab-badge.svg\" alt=\"Open In Colab\"/></a>"
      ]
    },
    {
      "cell_type": "code",
      "execution_count": null,
      "metadata": {
        "id": "cHJfP2LM9Yhc"
      },
      "outputs": [],
      "source": [
        "!pip install gradio -q\n",
        "!pip install --upgrade fireworks-ai -q"
      ]
    },
    {
      "cell_type": "code",
      "source": [
        "from fireworks.client import Fireworks"
      ],
      "metadata": {
        "id": "eNwWgUC79zr_"
      },
      "execution_count": null,
      "outputs": []
    },
    {
      "cell_type": "code",
      "source": [
        "!pip install PyPDF2\n",
        "from PyPDF2 import PdfReader"
      ],
      "metadata": {
        "id": "NHg0-DTS1oKt"
      },
      "execution_count": 1,
      "outputs": []
    },
    {
      "cell_type": "code",
      "source": [
        "reader = PdfReader(\"Reports5.pdf\")\n",
        "number_of_pages = len(reader.pages)\n",
        "number_of_pages"
      ],
      "metadata": {
        "id": "QP5MDYxC1vRO"
      },
      "execution_count": 2,
      "outputs": []
    },
    {
      "cell_type": "code",
      "source": [
        "import re\n",
        "for page in reader.pages:\n",
        "    # page = reader.pages[0]\n",
        "    text = page.extract_text()\n",
        "    cleaned_text = re.sub(r'[^\\w\\s\\n]', '', text)\n",
        "\n",
        "    print(cleaned_text)\n",
        "    # print (text)\n"
      ],
      "metadata": {
        "colab": {
          "base_uri": "https://localhost:8080/"
        },
        "id": "Jp5woB7E1wu7",
        "outputId": "68c00f1e-fdb0-4ce7-809e-a31839505c5d"
      },
      "execution_count": null,
      "outputs": [
        {
          "output_type": "stream",
          "name": "stdout",
          "text": [
            "32423 608 PM httpsmiraclehealthsystemscomdiagnosticDiagnosticRptCRPLDHaspx\n",
            "httpsmiraclehealthsystemscomdiagnosticDiagnosticRptCRPLDHaspx 11\n",
            "Date 24032023 Name SHAUR YATEE Referred Doctor DR SAHANA\n",
            "Booking ID 2303240020 Patient Id BLRP26419305 Mobile No 9591489813\n",
            "PSN Sex Male Age 197\n",
            "Address Not found in DB\n",
            "Registered Date 24032023 Collected On 24032023 Reported On 24032023\n",
            "Test Results UnitsBiological Refer ence\n",
            "Range\n",
            "BIOCHEMISTR Y\n",
            "C REACTIVE PROTEIN CRP \n",
            "Serum \n",
            "Nephelometry39 mgL  60\n",
            " \n",
            " End of Report \n",
            "Kindly correlate clinically  If necessary discussrepeat\n",
            "Dr Nirupam Moudgil\n",
            "Pathologist\n",
            "KMCNO84941\n",
            "Clinic 812100 Feet Outer Office 104SterlingManor R V Road Email Id  ceomiraclehealthsystemscom\n",
            "Ring RoadBefore PES University  Near Vijaya CollegeJayanagar 2ndBlock Website  www miraclehealthsystemscom\n",
            "Hosakerehall Banankari 3rd Banglore 560004 Contact No76187176047349707580\n",
            "Stage Bangalore560085\n"
          ]
        }
      ]
    },
    {
      "cell_type": "code",
      "source": [
        "history = []\n",
        "def user_message(inquiry):\n",
        "    user_message = (\n",
        "        f\"\"\"\n",
        "        You are a Medical Test Report Analysing Bot.Your task is to assess the customer's Medical report.\n",
        "        In the medical report, the patient's medical parameter value is mentioned and corresponding range of safe values is mentioned.\n",
        "        You need to return the medical conditions which are outside of the safe range mentioned in the given text.\n",
        "\n",
        "        explain the safe range and patient's value for each medical parameter.\n",
        "\n",
        "        Your response must be like this: <<<>>> into one of the following predefined categories:\n",
        "\n",
        "        medical parameter\n",
        "        Patient's Value\n",
        "        Reference Range\n",
        "\n",
        "        You will only respond with the Parameter which is either less than or More than the Ideal Range. Do not include any medical parameter which is present within the Ideal range. Provide minimalist explanations or notes.\n",
        "\n",
        "        ####\n",
        "        Here are some examples:\n",
        "\n",
        "        Input Report Text: BLOOD COUNTS\n",
        "\n",
        "              Haemoglobin : 18.5 Gms% 12.5-16 gm/dl\n",
        "\n",
        "              R.B.C Count: 4.38 milli/cmm 4.2-5.4 mil./cu.mm.\n",
        "\n",
        "              W.B.C Count: 7,100 /c. mm 4,000 - 10,000\n",
        "\n",
        "              Platelet Count: 3,07,000 /cmm. 1,40,000 - 4,50,000\n",
        "\n",
        "        Output:\n",
        "\n",
        "                In the above document, the Haemoglobin  content is more than the expected value, the patient data is - 18.5 and the ideal range is between 12.5 and 16.\n",
        "\n",
        "         Input Report Text:\n",
        "         Albumin: Absent Trace : 15mg/dl\n",
        "          Present(+):50 mg/dl\n",
        "          Present(++):100 mg/dl\n",
        "          Present(+++):300 mg/dl\n",
        "          Present(++++):1000 mg/dl\n",
        "          Sugar: Absent Trace : 30mg/dl\n",
        "          Present(+):50 mg/dl\n",
        "          Present(++):100 mg/dl\n",
        "          Present(+++):300 mg/dl\n",
        "          Present(++++):1000 mg/dl\n",
        "\n",
        "        Output:\n",
        "\n",
        "                In the above document, the Albumin content is absent.\n",
        "                In the above document, the Sugar content is absent.\n",
        "\n",
        "\n",
        "        ###\n",
        "\n",
        "        <<<\n",
        "        Input Report text: {inquiry}\n",
        "        >>>\n",
        "        \"\"\"\n",
        "    )\n",
        "    return user_message"
      ],
      "metadata": {
        "id": "TI_V6SKLpecX"
      },
      "execution_count": null,
      "outputs": []
    },
    {
      "cell_type": "code",
      "source": [
        "client = Fireworks(api_key=\"SwGXPje77jqsQcnaT6BuGYG1G8yeHt9FQjZXX7RzGfEbkXej\")\n",
        "message_modified = user_message(cleaned_text)\n",
        "\n",
        "response = client.chat.completions.create(\n",
        "  model=\"accounts/fireworks/models/mixtral-8x7b-instruct\",\n",
        "  messages=[{\"role\": \"user\", \"content\": message_modified}],)\n",
        "\n",
        "bot_response = response.choices[0].message.content\n",
        "\n",
        "bot_response"
      ],
      "metadata": {
        "colab": {
          "base_uri": "https://localhost:8080/",
          "height": 52
        },
        "id": "5yvkLntH90sW",
        "outputId": "2cb34882-11dd-4576-f597-4afc7eae753f"
      },
      "execution_count": null,
      "outputs": [
        {
          "output_type": "execute_result",
          "data": {
            "text/plain": [
              "'In the above document, the C-Reactive Protein (CRP) value is 39 mg/L, which is higher than the ideal range of 60 mg/L. Please consult clinically and discuss the possibility of a repeat test if necessary.'"
            ],
            "application/vnd.google.colaboratory.intrinsic+json": {
              "type": "string"
            }
          },
          "metadata": {},
          "execution_count": 21
        }
      ]
    }
  ]
}